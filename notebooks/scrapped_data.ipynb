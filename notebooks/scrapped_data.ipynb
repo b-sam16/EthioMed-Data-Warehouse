{
 "cells": [
  {
   "cell_type": "code",
   "execution_count": 1,
   "metadata": {},
   "outputs": [],
   "source": [
    "# Import pandas library\n",
    "import pandas as pd"
   ]
  },
  {
   "cell_type": "code",
   "execution_count": 2,
   "metadata": {},
   "outputs": [],
   "source": [
    "# Load the scraped data into a DataFrame\n",
    "input_csv = \"../data/raw/scraped_data.csv\"\n",
    "data = pd.read_csv(input_csv)\n"
   ]
  },
  {
   "cell_type": "code",
   "execution_count": 3,
   "metadata": {},
   "outputs": [
    {
     "data": {
      "text/html": [
       "<div>\n",
       "<style scoped>\n",
       "    .dataframe tbody tr th:only-of-type {\n",
       "        vertical-align: middle;\n",
       "    }\n",
       "\n",
       "    .dataframe tbody tr th {\n",
       "        vertical-align: top;\n",
       "    }\n",
       "\n",
       "    .dataframe thead th {\n",
       "        text-align: right;\n",
       "    }\n",
       "</style>\n",
       "<table border=\"1\" class=\"dataframe\">\n",
       "  <thead>\n",
       "    <tr style=\"text-align: right;\">\n",
       "      <th></th>\n",
       "      <th>Channel Title</th>\n",
       "      <th>Channel Username</th>\n",
       "      <th>Message ID</th>\n",
       "      <th>Message</th>\n",
       "      <th>Date</th>\n",
       "      <th>Media Path</th>\n",
       "    </tr>\n",
       "  </thead>\n",
       "  <tbody>\n",
       "    <tr>\n",
       "      <th>0</th>\n",
       "      <td>Doctors Ethiopia</td>\n",
       "      <td>@DoctorsET</td>\n",
       "      <td>1</td>\n",
       "      <td>NaN</td>\n",
       "      <td>2019-03-30 18:58:34+00:00</td>\n",
       "      <td>NaN</td>\n",
       "    </tr>\n",
       "    <tr>\n",
       "      <th>1</th>\n",
       "      <td>Doctors Ethiopia</td>\n",
       "      <td>@DoctorsET</td>\n",
       "      <td>3</td>\n",
       "      <td>DoctorsEthiopia on LTV</td>\n",
       "      <td>2019-04-20 22:32:49+00:00</td>\n",
       "      <td>NaN</td>\n",
       "    </tr>\n",
       "    <tr>\n",
       "      <th>2</th>\n",
       "      <td>Doctors Ethiopia</td>\n",
       "      <td>@DoctorsET</td>\n",
       "      <td>3</td>\n",
       "      <td>DoctorsEthiopia on LTV</td>\n",
       "      <td>2019-04-20 22:32:49+00:00</td>\n",
       "      <td>NaN</td>\n",
       "    </tr>\n",
       "    <tr>\n",
       "      <th>3</th>\n",
       "      <td>Doctors Ethiopia</td>\n",
       "      <td>@DoctorsET</td>\n",
       "      <td>5</td>\n",
       "      <td>Production crew!\\nDoctorsEthiopia</td>\n",
       "      <td>2019-04-21 06:44:30+00:00</td>\n",
       "      <td>NaN</td>\n",
       "    </tr>\n",
       "    <tr>\n",
       "      <th>4</th>\n",
       "      <td>Doctors Ethiopia</td>\n",
       "      <td>@DoctorsET</td>\n",
       "      <td>5</td>\n",
       "      <td>Production crew!\\nDoctorsEthiopia</td>\n",
       "      <td>2019-04-21 06:44:30+00:00</td>\n",
       "      <td>NaN</td>\n",
       "    </tr>\n",
       "  </tbody>\n",
       "</table>\n",
       "</div>"
      ],
      "text/plain": [
       "      Channel Title Channel Username  Message ID  \\\n",
       "0  Doctors Ethiopia       @DoctorsET           1   \n",
       "1  Doctors Ethiopia       @DoctorsET           3   \n",
       "2  Doctors Ethiopia       @DoctorsET           3   \n",
       "3  Doctors Ethiopia       @DoctorsET           5   \n",
       "4  Doctors Ethiopia       @DoctorsET           5   \n",
       "\n",
       "                             Message                       Date Media Path  \n",
       "0                                NaN  2019-03-30 18:58:34+00:00        NaN  \n",
       "1             DoctorsEthiopia on LTV  2019-04-20 22:32:49+00:00        NaN  \n",
       "2             DoctorsEthiopia on LTV  2019-04-20 22:32:49+00:00        NaN  \n",
       "3  Production crew!\\nDoctorsEthiopia  2019-04-21 06:44:30+00:00        NaN  \n",
       "4  Production crew!\\nDoctorsEthiopia  2019-04-21 06:44:30+00:00        NaN  "
      ]
     },
     "execution_count": 3,
     "metadata": {},
     "output_type": "execute_result"
    }
   ],
   "source": [
    "data.head()"
   ]
  },
  {
   "cell_type": "code",
   "execution_count": 4,
   "metadata": {},
   "outputs": [
    {
     "name": "stdout",
     "output_type": "stream",
     "text": [
      "<class 'pandas.core.frame.DataFrame'>\n",
      "RangeIndex: 864 entries, 0 to 863\n",
      "Data columns (total 6 columns):\n",
      " #   Column            Non-Null Count  Dtype \n",
      "---  ------            --------------  ----- \n",
      " 0   Channel Title     864 non-null    object\n",
      " 1   Channel Username  864 non-null    object\n",
      " 2   Message ID        864 non-null    int64 \n",
      " 3   Message           728 non-null    object\n",
      " 4   Date              864 non-null    object\n",
      " 5   Media Path        108 non-null    object\n",
      "dtypes: int64(1), object(5)\n",
      "memory usage: 40.6+ KB\n"
     ]
    }
   ],
   "source": [
    "data.info()  # Shows data types and missing values"
   ]
  },
  {
   "cell_type": "code",
   "execution_count": 5,
   "metadata": {},
   "outputs": [],
   "source": [
    "# Load the scraped data into a DataFrame\n",
    "input_csv = \"../data/processed/cleaned_data.csv\"\n",
    "data = pd.read_csv(input_csv)"
   ]
  },
  {
   "cell_type": "code",
   "execution_count": 6,
   "metadata": {},
   "outputs": [
    {
     "data": {
      "text/html": [
       "<div>\n",
       "<style scoped>\n",
       "    .dataframe tbody tr th:only-of-type {\n",
       "        vertical-align: middle;\n",
       "    }\n",
       "\n",
       "    .dataframe tbody tr th {\n",
       "        vertical-align: top;\n",
       "    }\n",
       "\n",
       "    .dataframe thead th {\n",
       "        text-align: right;\n",
       "    }\n",
       "</style>\n",
       "<table border=\"1\" class=\"dataframe\">\n",
       "  <thead>\n",
       "    <tr style=\"text-align: right;\">\n",
       "      <th></th>\n",
       "      <th>channel_title</th>\n",
       "      <th>channel_username</th>\n",
       "      <th>message_Message ID</th>\n",
       "      <th>message</th>\n",
       "      <th>message_date</th>\n",
       "      <th>media_path</th>\n",
       "      <th>emoji_used</th>\n",
       "      <th>youtube_links</th>\n",
       "    </tr>\n",
       "  </thead>\n",
       "  <tbody>\n",
       "    <tr>\n",
       "      <th>0</th>\n",
       "      <td>Doctors Ethiopia</td>\n",
       "      <td>@DoctorsET</td>\n",
       "      <td>1</td>\n",
       "      <td>No Message</td>\n",
       "      <td>2019-03-30 18:58:34+00:00</td>\n",
       "      <td>No Media</td>\n",
       "      <td>No emoji</td>\n",
       "      <td>No YouTube link</td>\n",
       "    </tr>\n",
       "    <tr>\n",
       "      <th>1</th>\n",
       "      <td>Doctors Ethiopia</td>\n",
       "      <td>@DoctorsET</td>\n",
       "      <td>3</td>\n",
       "      <td>DoctorsEthiopia on LTV</td>\n",
       "      <td>2019-04-20 22:32:49+00:00</td>\n",
       "      <td>No Media</td>\n",
       "      <td>No emoji</td>\n",
       "      <td>No YouTube link</td>\n",
       "    </tr>\n",
       "    <tr>\n",
       "      <th>2</th>\n",
       "      <td>Doctors Ethiopia</td>\n",
       "      <td>@DoctorsET</td>\n",
       "      <td>5</td>\n",
       "      <td>Production crew! DoctorsEthiopia</td>\n",
       "      <td>2019-04-21 06:44:30+00:00</td>\n",
       "      <td>No Media</td>\n",
       "      <td>No emoji</td>\n",
       "      <td>No YouTube link</td>\n",
       "    </tr>\n",
       "    <tr>\n",
       "      <th>3</th>\n",
       "      <td>Doctors Ethiopia</td>\n",
       "      <td>@DoctorsET</td>\n",
       "      <td>6</td>\n",
       "      <td>No Message</td>\n",
       "      <td>2019-04-21 17:34:18+00:00</td>\n",
       "      <td>No Media</td>\n",
       "      <td>No emoji</td>\n",
       "      <td>No YouTube link</td>\n",
       "    </tr>\n",
       "    <tr>\n",
       "      <th>4</th>\n",
       "      <td>Doctors Ethiopia</td>\n",
       "      <td>@DoctorsET</td>\n",
       "      <td>7</td>\n",
       "      <td>ማይግሬንን እንዴት ልከላከል? ማይግሬን የማይድን በሽታ ቢሆንም የሚከሰትባ...</td>\n",
       "      <td>2019-04-21 17:37:45+00:00</td>\n",
       "      <td>No Media</td>\n",
       "      <td>No emoji</td>\n",
       "      <td>No YouTube link</td>\n",
       "    </tr>\n",
       "  </tbody>\n",
       "</table>\n",
       "</div>"
      ],
      "text/plain": [
       "      channel_title channel_username  message_Message ID  \\\n",
       "0  Doctors Ethiopia       @DoctorsET                   1   \n",
       "1  Doctors Ethiopia       @DoctorsET                   3   \n",
       "2  Doctors Ethiopia       @DoctorsET                   5   \n",
       "3  Doctors Ethiopia       @DoctorsET                   6   \n",
       "4  Doctors Ethiopia       @DoctorsET                   7   \n",
       "\n",
       "                                             message  \\\n",
       "0                                         No Message   \n",
       "1                             DoctorsEthiopia on LTV   \n",
       "2                   Production crew! DoctorsEthiopia   \n",
       "3                                         No Message   \n",
       "4  ማይግሬንን እንዴት ልከላከል? ማይግሬን የማይድን በሽታ ቢሆንም የሚከሰትባ...   \n",
       "\n",
       "                message_date media_path emoji_used    youtube_links  \n",
       "0  2019-03-30 18:58:34+00:00   No Media   No emoji  No YouTube link  \n",
       "1  2019-04-20 22:32:49+00:00   No Media   No emoji  No YouTube link  \n",
       "2  2019-04-21 06:44:30+00:00   No Media   No emoji  No YouTube link  \n",
       "3  2019-04-21 17:34:18+00:00   No Media   No emoji  No YouTube link  \n",
       "4  2019-04-21 17:37:45+00:00   No Media   No emoji  No YouTube link  "
      ]
     },
     "execution_count": 6,
     "metadata": {},
     "output_type": "execute_result"
    }
   ],
   "source": [
    "data.head()"
   ]
  },
  {
   "cell_type": "code",
   "execution_count": 7,
   "metadata": {},
   "outputs": [
    {
     "name": "stdout",
     "output_type": "stream",
     "text": [
      "<class 'pandas.core.frame.DataFrame'>\n",
      "RangeIndex: 326 entries, 0 to 325\n",
      "Data columns (total 8 columns):\n",
      " #   Column              Non-Null Count  Dtype \n",
      "---  ------              --------------  ----- \n",
      " 0   channel_title       326 non-null    object\n",
      " 1   channel_username    326 non-null    object\n",
      " 2   message_Message ID  326 non-null    int64 \n",
      " 3   message             325 non-null    object\n",
      " 4   message_date        326 non-null    object\n",
      " 5   media_path          326 non-null    object\n",
      " 6   emoji_used          326 non-null    object\n",
      " 7   youtube_links       326 non-null    object\n",
      "dtypes: int64(1), object(7)\n",
      "memory usage: 20.5+ KB\n"
     ]
    }
   ],
   "source": [
    "data.info()  # Shows data types and missing values"
   ]
  }
 ],
 "metadata": {
  "kernelspec": {
   "display_name": "env",
   "language": "python",
   "name": "python3"
  },
  "language_info": {
   "codemirror_mode": {
    "name": "ipython",
    "version": 3
   },
   "file_extension": ".py",
   "mimetype": "text/x-python",
   "name": "python",
   "nbconvert_exporter": "python",
   "pygments_lexer": "ipython3",
   "version": "3.10.5"
  }
 },
 "nbformat": 4,
 "nbformat_minor": 2
}
