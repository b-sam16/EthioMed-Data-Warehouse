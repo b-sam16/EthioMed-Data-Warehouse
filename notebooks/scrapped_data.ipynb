{
 "cells": [
  {
   "cell_type": "code",
   "execution_count": 1,
   "metadata": {},
   "outputs": [],
   "source": [
    "# Import pandas library\n",
    "import pandas as pd"
   ]
  },
  {
   "cell_type": "code",
   "execution_count": 2,
   "metadata": {},
   "outputs": [],
   "source": [
    "# Load the scraped data into a DataFrame\n",
    "input_csv = \"../data/raw/scraped_data.csv\"\n",
    "data = pd.read_csv(input_csv)\n"
   ]
  },
  {
   "cell_type": "code",
   "execution_count": 3,
   "metadata": {},
   "outputs": [
    {
     "data": {
      "text/html": [
       "<div>\n",
       "<style scoped>\n",
       "    .dataframe tbody tr th:only-of-type {\n",
       "        vertical-align: middle;\n",
       "    }\n",
       "\n",
       "    .dataframe tbody tr th {\n",
       "        vertical-align: top;\n",
       "    }\n",
       "\n",
       "    .dataframe thead th {\n",
       "        text-align: right;\n",
       "    }\n",
       "</style>\n",
       "<table border=\"1\" class=\"dataframe\">\n",
       "  <thead>\n",
       "    <tr style=\"text-align: right;\">\n",
       "      <th></th>\n",
       "      <th>Channel Title</th>\n",
       "      <th>Channel Username</th>\n",
       "      <th>Message ID</th>\n",
       "      <th>Message</th>\n",
       "      <th>Date</th>\n",
       "    </tr>\n",
       "  </thead>\n",
       "  <tbody>\n",
       "    <tr>\n",
       "      <th>0</th>\n",
       "      <td>Doctors Ethiopia</td>\n",
       "      <td>@DoctorsET</td>\n",
       "      <td>3</td>\n",
       "      <td>DoctorsEthiopia on LTV</td>\n",
       "      <td>2019-04-20 22:32:49+00:00</td>\n",
       "    </tr>\n",
       "    <tr>\n",
       "      <th>1</th>\n",
       "      <td>Doctors Ethiopia</td>\n",
       "      <td>@DoctorsET</td>\n",
       "      <td>5</td>\n",
       "      <td>Production crew!\\nDoctorsEthiopia</td>\n",
       "      <td>2019-04-21 06:44:30+00:00</td>\n",
       "    </tr>\n",
       "    <tr>\n",
       "      <th>2</th>\n",
       "      <td>Doctors Ethiopia</td>\n",
       "      <td>@DoctorsET</td>\n",
       "      <td>7</td>\n",
       "      <td>ማይግሬንን እንዴት ልከላከል?\\nማይግሬን የማይድን በሽታ ቢሆንም የሚከሰት...</td>\n",
       "      <td>2019-04-21 17:37:45+00:00</td>\n",
       "    </tr>\n",
       "    <tr>\n",
       "      <th>3</th>\n",
       "      <td>Doctors Ethiopia</td>\n",
       "      <td>@DoctorsET</td>\n",
       "      <td>8</td>\n",
       "      <td>Telegram @DoctorsEthiopia \\nYouTube   @Doctors...</td>\n",
       "      <td>2019-04-21 20:43:34+00:00</td>\n",
       "    </tr>\n",
       "    <tr>\n",
       "      <th>4</th>\n",
       "      <td>Doctors Ethiopia</td>\n",
       "      <td>@DoctorsET</td>\n",
       "      <td>9</td>\n",
       "      <td>Meba Entertainment presents \\nWe are Now activ...</td>\n",
       "      <td>2019-04-24 10:57:49+00:00</td>\n",
       "    </tr>\n",
       "  </tbody>\n",
       "</table>\n",
       "</div>"
      ],
      "text/plain": [
       "      Channel Title Channel Username  Message ID  \\\n",
       "0  Doctors Ethiopia       @DoctorsET           3   \n",
       "1  Doctors Ethiopia       @DoctorsET           5   \n",
       "2  Doctors Ethiopia       @DoctorsET           7   \n",
       "3  Doctors Ethiopia       @DoctorsET           8   \n",
       "4  Doctors Ethiopia       @DoctorsET           9   \n",
       "\n",
       "                                             Message  \\\n",
       "0                             DoctorsEthiopia on LTV   \n",
       "1                  Production crew!\\nDoctorsEthiopia   \n",
       "2  ማይግሬንን እንዴት ልከላከል?\\nማይግሬን የማይድን በሽታ ቢሆንም የሚከሰት...   \n",
       "3  Telegram @DoctorsEthiopia \\nYouTube   @Doctors...   \n",
       "4  Meba Entertainment presents \\nWe are Now activ...   \n",
       "\n",
       "                        Date  \n",
       "0  2019-04-20 22:32:49+00:00  \n",
       "1  2019-04-21 06:44:30+00:00  \n",
       "2  2019-04-21 17:37:45+00:00  \n",
       "3  2019-04-21 20:43:34+00:00  \n",
       "4  2019-04-24 10:57:49+00:00  "
      ]
     },
     "execution_count": 3,
     "metadata": {},
     "output_type": "execute_result"
    }
   ],
   "source": [
    "data.head()"
   ]
  },
  {
   "cell_type": "code",
   "execution_count": 4,
   "metadata": {},
   "outputs": [
    {
     "name": "stdout",
     "output_type": "stream",
     "text": [
      "<class 'pandas.core.frame.DataFrame'>\n",
      "RangeIndex: 364 entries, 0 to 363\n",
      "Data columns (total 5 columns):\n",
      " #   Column            Non-Null Count  Dtype \n",
      "---  ------            --------------  ----- \n",
      " 0   Channel Title     364 non-null    object\n",
      " 1   Channel Username  364 non-null    object\n",
      " 2   Message ID        364 non-null    int64 \n",
      " 3   Message           364 non-null    object\n",
      " 4   Date              364 non-null    object\n",
      "dtypes: int64(1), object(4)\n",
      "memory usage: 14.3+ KB\n"
     ]
    }
   ],
   "source": [
    "data.info()  # Shows data types and missing values"
   ]
  }
 ],
 "metadata": {
  "kernelspec": {
   "display_name": "env",
   "language": "python",
   "name": "python3"
  },
  "language_info": {
   "codemirror_mode": {
    "name": "ipython",
    "version": 3
   },
   "file_extension": ".py",
   "mimetype": "text/x-python",
   "name": "python",
   "nbconvert_exporter": "python",
   "pygments_lexer": "ipython3",
   "version": "3.10.5"
  }
 },
 "nbformat": 4,
 "nbformat_minor": 2
}
